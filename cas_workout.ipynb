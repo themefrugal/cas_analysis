{
 "cells": [
  {
   "cell_type": "markdown",
   "id": "accd95de",
   "metadata": {},
   "source": [
    "### Imports"
   ]
  },
  {
   "cell_type": "code",
   "execution_count": 3,
   "id": "09aa7e4e",
   "metadata": {},
   "outputs": [],
   "source": [
    "import casparser\n",
    "import pandas as pd\n",
    "from src.params_local import *"
   ]
  },
  {
   "cell_type": "markdown",
   "id": "630b63e1",
   "metadata": {},
   "source": [
    "### Reference"
   ]
  },
  {
   "cell_type": "raw",
   "id": "34c9fa08",
   "metadata": {},
   "source": [
    "https://github.com/codereverser/casparser"
   ]
  },
  {
   "cell_type": "code",
   "execution_count": 4,
   "id": "2052f4fb",
   "metadata": {},
   "outputs": [],
   "source": [
    "data = casparser.read_cas_pdf(file_path, \"\")"
   ]
  },
  {
   "cell_type": "code",
   "execution_count": 32,
   "id": "8c6b0e51",
   "metadata": {},
   "outputs": [],
   "source": [
    "data_csv = casparser.read_cas_pdf(file_path, \"\", output='csv')"
   ]
  },
  {
   "cell_type": "code",
   "execution_count": 37,
   "id": "741f8ad1",
   "metadata": {},
   "outputs": [],
   "source": [
    "from io import StringIO"
   ]
  },
  {
   "cell_type": "code",
   "execution_count": 38,
   "id": "b99d8835",
   "metadata": {},
   "outputs": [],
   "source": [
    "df_data = pd.read_csv(StringIO(data_csv))"
   ]
  },
  {
   "cell_type": "code",
   "execution_count": 39,
   "id": "87f63bf6",
   "metadata": {},
   "outputs": [
    {
     "data": {
      "text/plain": [
       "(2236, 15)"
      ]
     },
     "execution_count": 39,
     "metadata": {},
     "output_type": "execute_result"
    }
   ],
   "source": [
    "df_data.shape"
   ]
  },
  {
   "cell_type": "code",
   "execution_count": 8,
   "id": "0ed3bc05",
   "metadata": {},
   "outputs": [
    {
     "data": {
      "text/plain": [
       "dict"
      ]
     },
     "execution_count": 8,
     "metadata": {},
     "output_type": "execute_result"
    }
   ],
   "source": [
    "type(data)"
   ]
  },
  {
   "cell_type": "code",
   "execution_count": 9,
   "id": "53b43cda",
   "metadata": {},
   "outputs": [
    {
     "data": {
      "text/plain": [
       "dict_keys(['cas_type', 'statement_period', 'folios', 'file_type', 'investor_info'])"
      ]
     },
     "execution_count": 9,
     "metadata": {},
     "output_type": "execute_result"
    }
   ],
   "source": [
    "data.keys()"
   ]
  },
  {
   "cell_type": "code",
   "execution_count": 10,
   "id": "4ebf90dd",
   "metadata": {},
   "outputs": [
    {
     "data": {
      "text/plain": [
       "'DETAILED'"
      ]
     },
     "execution_count": 10,
     "metadata": {},
     "output_type": "execute_result"
    }
   ],
   "source": [
    "data['cas_type']"
   ]
  },
  {
   "cell_type": "code",
   "execution_count": 11,
   "id": "670d8f56",
   "metadata": {},
   "outputs": [
    {
     "data": {
      "text/plain": [
       "{'from': '01-Jan-1992', 'to': '31-Jan-2022'}"
      ]
     },
     "execution_count": 11,
     "metadata": {},
     "output_type": "execute_result"
    }
   ],
   "source": [
    "data['statement_period']"
   ]
  },
  {
   "cell_type": "code",
   "execution_count": 13,
   "id": "e3202692",
   "metadata": {},
   "outputs": [
    {
     "data": {
      "text/plain": [
       "25"
      ]
     },
     "execution_count": 13,
     "metadata": {},
     "output_type": "execute_result"
    }
   ],
   "source": [
    "len(data['folios'])"
   ]
  },
  {
   "cell_type": "code",
   "execution_count": 15,
   "id": "831e45fa",
   "metadata": {},
   "outputs": [
    {
     "data": {
      "text/plain": [
       "'CAMS'"
      ]
     },
     "execution_count": 15,
     "metadata": {},
     "output_type": "execute_result"
    }
   ],
   "source": [
    "data['file_type']"
   ]
  },
  {
   "cell_type": "raw",
   "id": "b28a46c8",
   "metadata": {},
   "source": [
    "data['investor_info']"
   ]
  },
  {
   "cell_type": "code",
   "execution_count": 21,
   "id": "85642daf",
   "metadata": {},
   "outputs": [
    {
     "data": {
      "text/plain": [
       "dict_keys(['folio', 'amc', 'PAN', 'KYC', 'PANKYC', 'schemes'])"
      ]
     },
     "execution_count": 21,
     "metadata": {},
     "output_type": "execute_result"
    }
   ],
   "source": [
    "data['folios'][0].keys()"
   ]
  },
  {
   "cell_type": "code",
   "execution_count": 19,
   "id": "ff7d1e9c",
   "metadata": {},
   "outputs": [
    {
     "data": {
      "text/plain": [
       "3"
      ]
     },
     "execution_count": 19,
     "metadata": {},
     "output_type": "execute_result"
    }
   ],
   "source": [
    "len(data['folios'][0]['schemes'])"
   ]
  },
  {
   "cell_type": "code",
   "execution_count": 22,
   "id": "c4e2a028",
   "metadata": {},
   "outputs": [
    {
     "data": {
      "text/plain": [
       "dict_keys(['scheme', 'advisor', 'rta_code', 'type', 'rta', 'isin', 'amfi', 'open', 'close', 'close_calculated', 'valuation', 'transactions'])"
      ]
     },
     "execution_count": 22,
     "metadata": {},
     "output_type": "execute_result"
    }
   ],
   "source": [
    "data['folios'][0]['schemes'][0].keys()"
   ]
  },
  {
   "cell_type": "code",
   "execution_count": 25,
   "id": "24ac5b4a",
   "metadata": {},
   "outputs": [
    {
     "data": {
      "text/plain": [
       "dict_keys(['date', 'description', 'amount', 'units', 'nav', 'balance', 'type', 'dividend_rate'])"
      ]
     },
     "execution_count": 25,
     "metadata": {},
     "output_type": "execute_result"
    }
   ],
   "source": [
    "data['folios'][0]['schemes'][0]['transactions'][0].keys()"
   ]
  },
  {
   "cell_type": "code",
   "execution_count": null,
   "id": "6cb7ebc6",
   "metadata": {},
   "outputs": [],
   "source": []
  }
 ],
 "metadata": {
  "kernelspec": {
   "display_name": "Python 3 (ipykernel)",
   "language": "python",
   "name": "python3"
  },
  "language_info": {
   "codemirror_mode": {
    "name": "ipython",
    "version": 3
   },
   "file_extension": ".py",
   "mimetype": "text/x-python",
   "name": "python",
   "nbconvert_exporter": "python",
   "pygments_lexer": "ipython3",
   "version": "3.9.12"
  }
 },
 "nbformat": 4,
 "nbformat_minor": 5
}
