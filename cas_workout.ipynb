{
 "cells": [
  {
   "cell_type": "markdown",
   "id": "6cd419aa",
   "metadata": {},
   "source": [
    "### Imports"
   ]
  },
  {
   "cell_type": "code",
   "execution_count": 3,
   "id": "c57fdbf7",
   "metadata": {},
   "outputs": [],
   "source": [
    "import casparser\n",
    "import pandas as pd\n",
    "from src.params_local import *"
   ]
  },
  {
   "cell_type": "markdown",
   "id": "2e79e4e5",
   "metadata": {},
   "source": [
    "### Reference"
   ]
  },
  {
   "cell_type": "raw",
   "id": "80442936",
   "metadata": {},
   "source": [
    "https://github.com/codereverser/casparser"
   ]
  },
  {
   "cell_type": "code",
   "execution_count": 4,
   "id": "f39c7db0",
   "metadata": {},
   "outputs": [],
   "source": [
    "data = casparser.read_cas_pdf(file_path, \"\")"
   ]
  },
  {
   "cell_type": "code",
   "execution_count": 8,
   "id": "320225cb",
   "metadata": {},
   "outputs": [
    {
     "data": {
      "text/plain": [
       "dict"
      ]
     },
     "execution_count": 8,
     "metadata": {},
     "output_type": "execute_result"
    }
   ],
   "source": [
    "type(data)"
   ]
  },
  {
   "cell_type": "code",
   "execution_count": 9,
   "id": "ccc81010",
   "metadata": {},
   "outputs": [
    {
     "data": {
      "text/plain": [
       "dict_keys(['cas_type', 'statement_period', 'folios', 'file_type', 'investor_info'])"
      ]
     },
     "execution_count": 9,
     "metadata": {},
     "output_type": "execute_result"
    }
   ],
   "source": [
    "data.keys()"
   ]
  },
  {
   "cell_type": "code",
   "execution_count": 10,
   "id": "7b859548",
   "metadata": {},
   "outputs": [
    {
     "data": {
      "text/plain": [
       "'DETAILED'"
      ]
     },
     "execution_count": 10,
     "metadata": {},
     "output_type": "execute_result"
    }
   ],
   "source": [
    "data['cas_type']"
   ]
  },
  {
   "cell_type": "code",
   "execution_count": 11,
   "id": "c3045121",
   "metadata": {},
   "outputs": [
    {
     "data": {
      "text/plain": [
       "{'from': '01-Jan-1992', 'to': '31-Jan-2022'}"
      ]
     },
     "execution_count": 11,
     "metadata": {},
     "output_type": "execute_result"
    }
   ],
   "source": [
    "data['statement_period']"
   ]
  },
  {
   "cell_type": "code",
   "execution_count": 13,
   "id": "c3b93a28",
   "metadata": {},
   "outputs": [
    {
     "data": {
      "text/plain": [
       "25"
      ]
     },
     "execution_count": 13,
     "metadata": {},
     "output_type": "execute_result"
    }
   ],
   "source": [
    "len(data['folios'])"
   ]
  },
  {
   "cell_type": "code",
   "execution_count": 15,
   "id": "5e1c5f40",
   "metadata": {},
   "outputs": [
    {
     "data": {
      "text/plain": [
       "'CAMS'"
      ]
     },
     "execution_count": 15,
     "metadata": {},
     "output_type": "execute_result"
    }
   ],
   "source": [
    "data['file_type']"
   ]
  },
  {
   "cell_type": "raw",
   "id": "bb04c555",
   "metadata": {},
   "source": [
    "data['investor_info']"
   ]
  }
 ],
 "metadata": {
  "kernelspec": {
   "display_name": "Python 3 (ipykernel)",
   "language": "python",
   "name": "python3"
  },
  "language_info": {
   "codemirror_mode": {
    "name": "ipython",
    "version": 3
   },
   "file_extension": ".py",
   "mimetype": "text/x-python",
   "name": "python",
   "nbconvert_exporter": "python",
   "pygments_lexer": "ipython3",
   "version": "3.9.12"
  }
 },
 "nbformat": 4,
 "nbformat_minor": 5
}
