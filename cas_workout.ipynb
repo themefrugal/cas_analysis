{
 "cells": [
  {
   "cell_type": "markdown",
   "id": "accd95de",
   "metadata": {},
   "source": [
    "### Imports"
   ]
  },
  {
   "cell_type": "code",
   "execution_count": 1,
   "id": "09aa7e4e",
   "metadata": {},
   "outputs": [],
   "source": [
    "import casparser\n",
    "import pandas as pd\n",
    "from src.params_local import *\n",
    "from io import StringIO"
   ]
  },
  {
   "cell_type": "markdown",
   "id": "630b63e1",
   "metadata": {},
   "source": [
    "### Reference"
   ]
  },
  {
   "cell_type": "raw",
   "id": "34c9fa08",
   "metadata": {},
   "source": [
    "https://github.com/codereverser/casparser"
   ]
  },
  {
   "cell_type": "markdown",
   "id": "c072fa96",
   "metadata": {},
   "source": [
    "### CSV Format"
   ]
  },
  {
   "cell_type": "code",
   "execution_count": 2,
   "id": "8c6b0e51",
   "metadata": {},
   "outputs": [],
   "source": [
    "data_csv = casparser.read_cas_pdf(file_path, \"\", output='csv')"
   ]
  },
  {
   "cell_type": "code",
   "execution_count": 3,
   "id": "b99d8835",
   "metadata": {},
   "outputs": [],
   "source": [
    "df_data = pd.read_csv(StringIO(data_csv))"
   ]
  },
  {
   "cell_type": "code",
   "execution_count": 4,
   "id": "87f63bf6",
   "metadata": {},
   "outputs": [
    {
     "data": {
      "text/plain": [
       "(2236, 15)"
      ]
     },
     "execution_count": 4,
     "metadata": {},
     "output_type": "execute_result"
    }
   ],
   "source": [
    "df_data.shape"
   ]
  },
  {
   "cell_type": "code",
   "execution_count": 11,
   "id": "fea376da",
   "metadata": {},
   "outputs": [],
   "source": [
    "df_data['folio_scheme'] = df_data['folio'].astype(str) + ' ' + df_data['scheme']"
   ]
  },
  {
   "cell_type": "code",
   "execution_count": 13,
   "id": "3a8c640b",
   "metadata": {},
   "outputs": [
    {
     "data": {
      "text/plain": [
       "43"
      ]
     },
     "execution_count": 13,
     "metadata": {},
     "output_type": "execute_result"
    }
   ],
   "source": [
    "len(df_data['folio_scheme'].unique())"
   ]
  },
  {
   "cell_type": "markdown",
   "id": "ad3c19fd",
   "metadata": {},
   "source": [
    "### JSON Format"
   ]
  },
  {
   "cell_type": "code",
   "execution_count": null,
   "id": "fd1161bb",
   "metadata": {},
   "outputs": [],
   "source": [
    "data = casparser.read_cas_pdf(file_path, \"\")"
   ]
  },
  {
   "cell_type": "code",
   "execution_count": null,
   "id": "06963c5b",
   "metadata": {},
   "outputs": [],
   "source": [
    "type(data)"
   ]
  },
  {
   "cell_type": "code",
   "execution_count": null,
   "id": "53b43cda",
   "metadata": {},
   "outputs": [],
   "source": [
    "data.keys()"
   ]
  },
  {
   "cell_type": "code",
   "execution_count": null,
   "id": "4ebf90dd",
   "metadata": {},
   "outputs": [],
   "source": [
    "data['cas_type']"
   ]
  },
  {
   "cell_type": "code",
   "execution_count": null,
   "id": "670d8f56",
   "metadata": {},
   "outputs": [],
   "source": [
    "data['statement_period']"
   ]
  },
  {
   "cell_type": "code",
   "execution_count": null,
   "id": "e3202692",
   "metadata": {},
   "outputs": [],
   "source": [
    "len(data['folios'])"
   ]
  },
  {
   "cell_type": "code",
   "execution_count": null,
   "id": "831e45fa",
   "metadata": {},
   "outputs": [],
   "source": [
    "data['file_type']"
   ]
  },
  {
   "cell_type": "raw",
   "id": "b28a46c8",
   "metadata": {},
   "source": [
    "data['investor_info']"
   ]
  },
  {
   "cell_type": "code",
   "execution_count": null,
   "id": "85642daf",
   "metadata": {},
   "outputs": [],
   "source": [
    "data['folios'][0].keys()"
   ]
  },
  {
   "cell_type": "code",
   "execution_count": null,
   "id": "ff7d1e9c",
   "metadata": {},
   "outputs": [],
   "source": [
    "len(data['folios'][0]['schemes'])"
   ]
  },
  {
   "cell_type": "code",
   "execution_count": null,
   "id": "c4e2a028",
   "metadata": {},
   "outputs": [],
   "source": [
    "data['folios'][0]['schemes'][0].keys()"
   ]
  },
  {
   "cell_type": "code",
   "execution_count": null,
   "id": "24ac5b4a",
   "metadata": {},
   "outputs": [],
   "source": [
    "data['folios'][0]['schemes'][0]['transactions'][0].keys()"
   ]
  }
 ],
 "metadata": {
  "kernelspec": {
   "display_name": "Python 3 (ipykernel)",
   "language": "python",
   "name": "python3"
  },
  "language_info": {
   "codemirror_mode": {
    "name": "ipython",
    "version": 3
   },
   "file_extension": ".py",
   "mimetype": "text/x-python",
   "name": "python",
   "nbconvert_exporter": "python",
   "pygments_lexer": "ipython3",
   "version": "3.9.13"
  }
 },
 "nbformat": 4,
 "nbformat_minor": 5
}
